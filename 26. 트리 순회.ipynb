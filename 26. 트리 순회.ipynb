{
 "cells": [
  {
   "cell_type": "markdown",
   "metadata": {},
   "source": [
    "### 26. 트리 순회\n",
    "- [#1991](https://www.acmicpc.net/problem/1991)\n",
    "- 트리의 가장 기본적인 유형 - 반드시 숙지하기\n",
    "- 고급 탐색 알고리즘 - 기초 문제풀이"
   ]
  },
  {
   "cell_type": "markdown",
   "metadata": {},
   "source": [
    "**문제 풀이 핵심 아이디어**\n",
    "- 전위 순회 : 루트 > 왼쪽 자식 > 오른쪽 자식\n",
    "- 중위 순회 : 왼쪽 자식 > 루트 > 오른쪽 자식\n",
    "    - 특징: 제일 왼쪽 노드부터 차례대로 출력됨\n",
    "- 후위 순회 : 왼쪽 자식 > 오른쪽 자식 > 루트"
   ]
  },
  {
   "cell_type": "markdown",
   "metadata": {},
   "source": [
    "**문제**\n",
    "\n",
    "<img src=\"https://www.acmicpc.net/JudgeOnline/upload/201007/trtr.png\">\n",
    "\n",
    "- 이진 트리를 입력받아 전위 순회(preorder traversal), 중위 순회(inorder traversal), 후위 순회(postorder traversal)한 결과를 출력하는 프로그램을 작성하시오.\n",
    "\n",
    "- 예를 들어 위와 같은 이진 트리가 입력되면,\n",
    "\n",
    "    - 전위 순회한 결과 : ABDCEFG\n",
    "    - 중위 순회한 결과 : DBAECFG, 왼쪽부터 차례대로 출력됨\n",
    "    - 후위 순회한 결과 : DBEGFCA"
   ]
  },
  {
   "cell_type": "markdown",
   "metadata": {},
   "source": [
    "**입력**\n",
    "- 첫째 줄에는 이진 트리의 노드의 개수 N(1 ≤ N ≤ 26)이 주어진다. 둘째 줄부터 N개의 줄에 걸쳐 각 노드와 그의 왼쪽 자식 노드, 오른쪽 자식 노드가 주어진다. 노드의 이름은 A부터 차례대로 영문자 대문자로 매겨지며, 항상 A가 루트 노드가 된다. 자식 노드가 없는 경우에는 .으로 표현된다."
   ]
  },
  {
   "cell_type": "markdown",
   "metadata": {},
   "source": [
    "**출력**\n",
    "- 첫째 줄에 전위 순회, 둘째 줄에 중위 순회, 셋째 줄에 후위 순회한 결과를 출력한다. 각 줄에 N개의 알파벳을 공백 없이 출력하면 된다."
   ]
  },
  {
   "cell_type": "markdown",
   "metadata": {},
   "source": [
    "**예제 입력**\n",
    "```\n",
    "7\n",
    "A B C\n",
    "B D .\n",
    "C E F\n",
    "E . .\n",
    "F . G\n",
    "D . .\n",
    "G . .\n",
    "```"
   ]
  },
  {
   "cell_type": "markdown",
   "metadata": {},
   "source": [
    "**예제 출력**\n",
    "```\n",
    "ABDCEFG\n",
    "DBAECFG\n",
    "DBEGFCA\n",
    "```"
   ]
  },
  {
   "cell_type": "markdown",
   "metadata": {},
   "source": [
    "**소스코드**"
   ]
  },
  {
   "cell_type": "code",
   "execution_count": 36,
   "metadata": {},
   "outputs": [],
   "source": [
    "class Node:\n",
    "    def __init__(self, data, left, right):\n",
    "        self.data = data\n",
    "        self.left = left\n",
    "        self.right = right"
   ]
  },
  {
   "cell_type": "code",
   "execution_count": 37,
   "metadata": {},
   "outputs": [],
   "source": [
    "def pre_order(node):\n",
    "    print(node.data, end='')\n",
    "    \n",
    "    if node.left != '.':\n",
    "        pre_order(tree[node.left])\n",
    "        \n",
    "    if node.right != '.':\n",
    "        pre_order(tree[node.right])"
   ]
  },
  {
   "cell_type": "code",
   "execution_count": 38,
   "metadata": {},
   "outputs": [],
   "source": [
    "def in_order(node):\n",
    "    if node.left != '.':\n",
    "        in_order(tree[node.left])\n",
    "        \n",
    "    print(node.data, end='')\n",
    "    \n",
    "    if node.right != '.':\n",
    "        in_order(tree[node.right])"
   ]
  },
  {
   "cell_type": "code",
   "execution_count": 39,
   "metadata": {},
   "outputs": [],
   "source": [
    "def post_order(node):\n",
    "    if node.left != '.':\n",
    "        post_order(tree[node.left])\n",
    "        \n",
    "    if node.right != '.':\n",
    "        post_order(tree[node.right])\n",
    "        \n",
    "    print(node.data, end='')"
   ]
  },
  {
   "cell_type": "code",
   "execution_count": 35,
   "metadata": {},
   "outputs": [
    {
     "name": "stdout",
     "output_type": "stream",
     "text": [
      "7\n",
      "A B C\n",
      "B D .\n",
      "C E F\n",
      "E . .\n",
      "F . G\n",
      "D . .\n",
      "G . .\n"
     ]
    }
   ],
   "source": [
    "n = int(input())\n",
    "tree = dict()\n",
    "for _ in range(n):\n",
    "    data, left, right = input().split()\n",
    "    tree[data] = Node(data, left, right)"
   ]
  },
  {
   "cell_type": "code",
   "execution_count": 40,
   "metadata": {},
   "outputs": [
    {
     "name": "stdout",
     "output_type": "stream",
     "text": [
      "ABDCEFG"
     ]
    }
   ],
   "source": [
    "pre_order(tree['A'])"
   ]
  },
  {
   "cell_type": "code",
   "execution_count": 41,
   "metadata": {},
   "outputs": [
    {
     "name": "stdout",
     "output_type": "stream",
     "text": [
      "DBAECFG"
     ]
    }
   ],
   "source": [
    "in_order(tree['A'])"
   ]
  },
  {
   "cell_type": "code",
   "execution_count": 42,
   "metadata": {},
   "outputs": [
    {
     "name": "stdout",
     "output_type": "stream",
     "text": [
      "DBEGFCA"
     ]
    }
   ],
   "source": [
    "post_order(tree['A'])"
   ]
  }
 ],
 "metadata": {
  "kernelspec": {
   "display_name": "Python 3",
   "language": "python",
   "name": "python3"
  },
  "language_info": {
   "codemirror_mode": {
    "name": "ipython",
    "version": 3
   },
   "file_extension": ".py",
   "mimetype": "text/x-python",
   "name": "python",
   "nbconvert_exporter": "python",
   "pygments_lexer": "ipython3",
   "version": "3.8.1"
  }
 },
 "nbformat": 4,
 "nbformat_minor": 4
}
