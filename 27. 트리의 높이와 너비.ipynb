{
 "cells": [
  {
   "cell_type": "markdown",
   "metadata": {},
   "source": [
    "### 27. 트리의 높이와 너비\n",
    "- [#2250](https://www.acmicpc.net/problem/2250)\n",
    "- 고급 탐색 알고리즘 - 기초 문제풀이"
   ]
  },
  {
   "cell_type": "markdown",
   "metadata": {},
   "source": [
    "**입력**\n",
    "- 이진트리를 다음의 규칙에 따라 행과 열에 번호가 붙어있는 격자 모양의 틀 속에 그리려고 한다. 이때 다음의 규칙에 따라 그리려고 한다.\n",
    "\n",
    "    > - 이진트리에서 같은 레벨(level)에 있는 노드는 같은 행에 위치한다.\n",
    "    > - 한 열에는 한 노드만 존재한다.\n",
    "    > - 임의의 노드의 왼쪽 부트리(left subtree)에 있는 노드들은 해당 노드보다 왼쪽의 열에 위치하고, 오른쪽 부트리(right subtree)에 있는 노드들은 해당 노드보다 오른쪽의 열에 위치한다.\n",
    "    > - 노드가 배치된 가장 왼쪽 열과 오른쪽 열 사이엔 아무 노드도 없이 비어있는 열은 없다."
   ]
  },
  {
   "cell_type": "markdown",
   "metadata": {},
   "source": [
    "- 이와 같은 규칙에 따라 이진트리를 그릴 때 각 레벨의 너비는 그 레벨에 할당된 노드 중 가장 오른쪽에 위치한 노드의 열 번호에서 가장 왼쪽에 위치한 노드의 열 번호를 뺀 값 더하기 1로 정의한다. 트리의 레벨은 가장 위쪽에 있는 루트 노드가 1이고 아래로 1씩 증가한다.\n",
    "\n",
    "- 아래 그림은 어떤 이진트리를 위의 규칙에 따라 그려 본 것이다. 첫 번째 레벨의 너비는 1, 두 번째 레벨의 너비는 13, 3번째, 4번째 레벨의 너비는 각각 18이고, 5번째 레벨의 너비는 13이며, 그리고 6번째 레벨의 너비는 12이다."
   ]
  },
  {
   "cell_type": "markdown",
   "metadata": {},
   "source": [
    "<img src=\"https://onlinejudgeimages.s3-ap-northeast-1.amazonaws.com/upload/201008/ttt.PNG\">"
   ]
  },
  {
   "cell_type": "markdown",
   "metadata": {},
   "source": [
    "- 우리는 주어진 이진트리를 위의 규칙에 따라 그릴 때에 너비가 가장 넓은 레벨과 그 레벨의 너비를 계산하려고 한다. 위의 그림의 예에서 너비가 가장 넓은 레벨은 3번째와 4번째로 그 너비는 18이다. 너비가 가장 넓은 레벨이 두 개 이상 있을 때는 번호가 작은 레벨을 답으로 한다. 그러므로 이 예에 대한 답은 레벨은 3이고, 너비는 18이다.\n",
    "\n",
    "- 임의의 이진트리가 입력으로 주어질 때 너비가 가장 넓은 레벨과 그 레벨의 너비를 출력하는 프로그램을 작성하시오"
   ]
  },
  {
   "cell_type": "markdown",
   "metadata": {},
   "source": [
    "**입력**\n",
    "- 첫째 줄에 노드의 개수를 나타내는 정수 N(1 ≤ N ≤ 10,000)이 주어진다. 다음 N개의 줄에는 각 줄마다 노드 번호와 해당 노드의 왼쪽 자식 노드와 오른쪽 자식 노드의 번호가 순서대로 주어진다. 노드들의 번호는 1부터 N까지이며, 자식이 없는 경우에는 자식 노드의 번호에 -1이 주어진다."
   ]
  },
  {
   "cell_type": "markdown",
   "metadata": {},
   "source": [
    "**출력**\n",
    "- 첫째 줄에 너비가 가장 넓은 레벨과 그 레벨의 너비를 순서대로 출력한다. 너비가 가장 넓은 레벨이 두 개 이상 있을 때에는 번호가 작은 레벨을 출력한다."
   ]
  },
  {
   "cell_type": "markdown",
   "metadata": {},
   "source": [
    "**예제 입력**\n",
    "```\n",
    "19\n",
    "1 2 3\n",
    "2 4 5\n",
    "3 6 7\n",
    "4 8 -1\n",
    "5 9 10\n",
    "6 11 12\n",
    "7 13 -1\n",
    "8 -1 -1\n",
    "9 14 15\n",
    "10 -1 -1\n",
    "11 16 -1\n",
    "12 -1 -1\n",
    "13 17 -1\n",
    "14 -1 -1\n",
    "15 18 -1\n",
    "16 -1 -1\n",
    "17 -1 19\n",
    "18 -1 -1\n",
    "19 -1 -1\n",
    "```"
   ]
  },
  {
   "cell_type": "markdown",
   "metadata": {},
   "source": [
    "**예제 출력**\n",
    "```\n",
    "3 18\n",
    "```"
   ]
  },
  {
   "cell_type": "markdown",
   "metadata": {},
   "source": [
    "**문제 풀이 핵심 아이디어**\n",
    "- 중위 순회를 이용하면 x축을 기준으로 왼쪽부터 방문한다는 특징이 있습니다.\n",
    "- 이 문제는 중위 순회 알고리즘을 이용하고, 추가적으로 level 값을 저장하도록 문제를 해결할 수 있습니다."
   ]
  },
  {
   "cell_type": "markdown",
   "metadata": {},
   "source": [
    "**소스코드**"
   ]
  },
  {
   "cell_type": "code",
   "execution_count": 3,
   "metadata": {},
   "outputs": [],
   "source": [
    "class Node:\n",
    "    def __init__(self, data, left, right):\n",
    "        self.parent = -1  # 1번이 항상 루트 노드가 되는 것이 아니므로 부모 노드가 있는지 확인하기 위한 변수\n",
    "        self.data = data\n",
    "        self.left = left\n",
    "        self.right = right"
   ]
  },
  {
   "cell_type": "code",
   "execution_count": 6,
   "metadata": {},
   "outputs": [],
   "source": [
    "def in_order(node, level):\n",
    "    global level_depth, x\n",
    "    level_depth = max(level_depth, level)\n",
    "    \n",
    "    if node.left != -1:\n",
    "        in_order(tree[node.left], level + 1)\n",
    "    \n",
    "    level_min[level] = min(level_min[level], x)  # 해당 레벨에서 가장 왼쪽에 있는 노드 찾기\n",
    "    level_max[level] = max(level_max[level], x)  # 해당 레벨에서 가장 오른쪽에 있는 노드 찾기\n",
    "    x += 1\n",
    "    \n",
    "    if node.right != -1:\n",
    "        in_order(tree[node.right], level + 1)"
   ]
  },
  {
   "cell_type": "code",
   "execution_count": 4,
   "metadata": {},
   "outputs": [
    {
     "name": "stdout",
     "output_type": "stream",
     "text": [
      "19\n"
     ]
    }
   ],
   "source": [
    "n = int(input())\n",
    "tree = dict()\n",
    "level_min = [n]  # 각 레벨마다 있는 가장 왼쪽 노드\n",
    "level_max = [0]  # 각 레벨마다 있는 가장 오른쪽 노드\n",
    "root = -1\n",
    "x = 1\n",
    "level_depth = 1"
   ]
  },
  {
   "cell_type": "code",
   "execution_count": 5,
   "metadata": {},
   "outputs": [],
   "source": [
    "# 트리 초기화\n",
    "for i in range(1, n + 1):\n",
    "    tree[i] = Node(i, -1, -1)\n",
    "    level_min.append(n)  # \n",
    "    level_max.append(0)"
   ]
  },
  {
   "cell_type": "code",
   "execution_count": 7,
   "metadata": {},
   "outputs": [
    {
     "name": "stdout",
     "output_type": "stream",
     "text": [
      "1 2 3\n",
      "2 4 5\n",
      "3 6 7\n",
      "4 8 -1\n",
      "5 9 10\n",
      "6 11 12\n",
      "7 13 -1\n",
      "8 -1 -1\n",
      "9 14 15\n",
      "10 -1 -1\n",
      "11 16 -1\n",
      "12 -1 -1\n",
      "13 17 -1\n",
      "14 -1 -1\n",
      "15 18 -1\n",
      "16 -1 -1\n",
      "17 -1 19\n",
      "18 -1 -1\n",
      "19 -1 -1\n"
     ]
    }
   ],
   "source": [
    "# 데이터 입력\n",
    "for _ in range(n):\n",
    "    data, left, right = map(int, input().split())\n",
    "    tree[data].left = left\n",
    "    tree[data].right = right\n",
    "    \n",
    "    # 자식이 있다면 부모 설정\n",
    "    if left != -1:\n",
    "        tree[left].parent = data\n",
    "        \n",
    "    if right != -1:\n",
    "        tree[right].parent = data"
   ]
  },
  {
   "cell_type": "code",
   "execution_count": 8,
   "metadata": {},
   "outputs": [],
   "source": [
    "# 루트 노드 찾기\n",
    "for i in range(1, n + 1):\n",
    "    if tree[i].parent == -1:\n",
    "        root = i"
   ]
  },
  {
   "cell_type": "code",
   "execution_count": 9,
   "metadata": {},
   "outputs": [],
   "source": [
    "# 준위 순회 실행\n",
    "in_order(tree[root], 1)"
   ]
  },
  {
   "cell_type": "code",
   "execution_count": 10,
   "metadata": {},
   "outputs": [
    {
     "name": "stdout",
     "output_type": "stream",
     "text": [
      "3 18\n"
     ]
    }
   ],
   "source": [
    "result_level = 1\n",
    "result_width = level_max[1] - level_min[1] + 1\n",
    "\n",
    "for idx in range(2, level_depth + 1):\n",
    "    width = level_max[idx] - level_min[idx] + 1\n",
    "    \n",
    "    if result_width < width:\n",
    "        result_level = idx\n",
    "        result_width = width\n",
    "        \n",
    "print(result_level, result_width)"
   ]
  }
 ],
 "metadata": {
  "kernelspec": {
   "display_name": "Python 3",
   "language": "python",
   "name": "python3"
  },
  "language_info": {
   "codemirror_mode": {
    "name": "ipython",
    "version": 3
   },
   "file_extension": ".py",
   "mimetype": "text/x-python",
   "name": "python",
   "nbconvert_exporter": "python",
   "pygments_lexer": "ipython3",
   "version": "3.8.1"
  }
 },
 "nbformat": 4,
 "nbformat_minor": 4
}
