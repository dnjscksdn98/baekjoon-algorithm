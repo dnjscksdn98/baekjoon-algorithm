{
 "cells": [
  {
   "cell_type": "markdown",
   "metadata": {},
   "source": [
    "### 25. 중량 제한\n",
    "- [#1939](https://www.acmicpc.net/problem/1939)"
   ]
  },
  {
   "cell_type": "markdown",
   "metadata": {},
   "source": [
    "**문제**\n",
    "- N(2≤N≤10,000)개의 섬으로 이루어진 나라가 있다. 이들 중 몇 개의 섬 사이에는 다리가 설치되어 있어서 차들이 다닐 수 있다.\n",
    "\n",
    "- 영식 중공업에서는 두 개의 섬에 공장을 세워 두고 물품을 생산하는 일을 하고 있다. 물품을 생산하다 보면 공장에서 다른 공장으로 생산 중이던 물품을 수송해야 할 일이 생기곤 한다. 그런데 각각의 다리마다 중량제한이 있기 때문에 무턱대고 물품을 옮길 순 없다. 만약 중량제한을 초과하는 양의 물품이 다리를 지나게 되면 다리가 무너지게 된다.\n",
    "\n",
    "- 한 번의 이동에서 옮길 수 있는 물품들의 중량의 최댓값을 구하는 프로그램을 작성하시오."
   ]
  },
  {
   "cell_type": "markdown",
   "metadata": {},
   "source": [
    "**입력**\n",
    "- 첫째 줄에 N, M(1≤M≤100,000)이 주어진다. 다음 M개의 줄에는 다리에 대한 정보를 나타내는 세 정수 A, B(1≤A, B≤N), C(1≤C≤1,000,000,000)가 주어진다. 이는 A번 섬과 B번 섬 사이에 중량제한이 C인 다리가 존재한다는 의미이다. 서로 같은 두 도시 사이에 여러 개의 다리가 있을 수도 있으며, 모든 다리는 양방향이다. 마지막 줄에는 공장이 위치해 있는 섬의 번호를 나타내는 서로 다른 두 정수가 주어진다. 공장이 있는 두 섬을 연결하는 경로는 항상 존재하는 데이터만 입력으로 주어진다."
   ]
  },
  {
   "cell_type": "markdown",
   "metadata": {},
   "source": [
    "**출력**\n",
    "- 첫째 줄에 답을 출력한다."
   ]
  },
  {
   "cell_type": "markdown",
   "metadata": {},
   "source": [
    "**예제 입력**\n",
    "```\n",
    "3 3\n",
    "1 2 2\n",
    "3 1 3\n",
    "2 3 2\n",
    "1 3\n",
    "```"
   ]
  },
  {
   "cell_type": "markdown",
   "metadata": {},
   "source": [
    "**예제 출력**\n",
    "```\n",
    "3\n",
    "```"
   ]
  },
  {
   "cell_type": "markdown",
   "metadata": {},
   "source": [
    "**문제 풀이 핵심 아이디어**\n",
    "- 다리의 개수 M은 최대 100,000개이며, 중량 제한 C는 최대 1,000,000,000개입니다.\n",
    "- 이진 탐색을 이용하여 $O(M * logC)$에 문제를 해결할 수 있습니다.\n",
    "- 한 번의 이동에서 옮길 수 있는 물품들의 중량의 최댓값을 이진 탐색으로 찾습니다.\n",
    "- BFS를 통해 이동 가능한지 탐색"
   ]
  },
  {
   "cell_type": "code",
   "execution_count": 8,
   "metadata": {},
   "outputs": [
    {
     "name": "stdout",
     "output_type": "stream",
     "text": [
      "3 3\n",
      "1 2 2\n",
      "3 1 3\n",
      "2 3 2\n",
      "1 3\n",
      "3\n"
     ]
    }
   ],
   "source": [
    "from collections import deque\n",
    "\n",
    "n, m = map(int, input().split(' '))  # 섬의개수, 다리의 개수\n",
    "adj = [[] for _ in range(n + 1)]  # 인접 리스트, 각 섬에서 인점한 섬과 중량 제한(y, w), 0번째는 비워둠\n",
    "\n",
    "# 현재 중량(mid)로 시작 노드에서 끝노드에 도달할 수 있는지 탐색\n",
    "def bfs(c):\n",
    "    # 초기화\n",
    "    queue = deque([start_node])\n",
    "    visited = [False] * (n + 1)\n",
    "    visited[start_node] = True\n",
    "    \n",
    "    while queue:\n",
    "        x = queue.popleft()\n",
    "        for y, weight in adj[x]:\n",
    "            if not visited[y] and weight >= c:  # 방문하지 않았고, 현재 중량이 제한보다 작을 경우\n",
    "                visited[y] = True\n",
    "                queue.append(y)\n",
    "    \n",
    "    return visited[end_node]  # 끝 노드를 방문했는지 안했는지 반환, True or False\n",
    "\n",
    "min_w = 1000000000  # 최소 중량\n",
    "max_w = 1  # 최대 중량\n",
    "\n",
    "for _ in range(m):\n",
    "    x, y, weight = map(int, input().split(' '))  # 섬x, 섬y, 중량 제한\n",
    "    adj[x].append((y, weight))  # 인접 리스트에 삽입\n",
    "    adj[y].append((x, weight))\n",
    "    min_w = min(min_w, weight)  # 최소, 최대 중량 계산\n",
    "    max_w = max(max_w, weight)\n",
    "    \n",
    "start_node, end_node = map(int, input().split(' '))  # 시작 노드, 끝 노드\n",
    "\n",
    "result = min_w  # 결과값 = 이동가능한 최대 중량\n",
    "\n",
    "# 이진 탐색 과정\n",
    "while min_w <= max_w:  # \n",
    "    mid = (min_w + max_w) // 2  # 현재의 중량\n",
    "    \n",
    "    if bfs(mid):  # 이동이 가능하므로 중량 증가\n",
    "        result = mid\n",
    "        min_w = mid + 1\n",
    "        \n",
    "    else:  # 이동이 불가능하므로 중량 감소\n",
    "        max_w = mid - 1\n",
    "        \n",
    "print(result)"
   ]
  }
 ],
 "metadata": {
  "kernelspec": {
   "display_name": "Python 3",
   "language": "python",
   "name": "python3"
  },
  "language_info": {
   "codemirror_mode": {
    "name": "ipython",
    "version": 3
   },
   "file_extension": ".py",
   "mimetype": "text/x-python",
   "name": "python",
   "nbconvert_exporter": "python",
   "pygments_lexer": "ipython3",
   "version": "3.6.9"
  }
 },
 "nbformat": 4,
 "nbformat_minor": 4
}
