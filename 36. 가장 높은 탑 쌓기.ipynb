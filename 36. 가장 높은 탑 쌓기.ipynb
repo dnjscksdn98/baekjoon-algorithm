{
 "cells": [
  {
   "cell_type": "markdown",
   "metadata": {},
   "source": [
    "## 36. 가장 높은 탑 쌓기\n",
    "- [#2655](https://www.acmicpc.net/problem/2655)\n",
    "- 난이도: 상\n",
    "- 동적 프로그래밍: 핵심 유형 문제풀이 #3"
   ]
  },
  {
   "cell_type": "markdown",
   "metadata": {},
   "source": [
    "**문제**\n",
    "- 밑면이 정사각형인 직육면체 벽돌들을 사용하여 탑을 쌓고자 한다. 탑은 벽돌을 한 개씩 아래에서 위로 쌓으면서 만들어 간다. 아래의 조건을 만족하면서 가장 높은 탑을 쌓을 수 있는 프로그램을 작성하시오.\n",
    "\n",
    "> 1. 벽돌은 회전시킬 수 없다. 즉, 옆면을 밑면으로 사용할 수 없다.\n",
    "> 2. 밑면의 넓이가 같은 벽돌은 없으며, 또한 무게가 같은 벽돌도 없다.\n",
    "> 3. 벽돌들의 높이는 같을 수도 있다.\n",
    "> 4. 탑을 쌓을 때 밑면이 좁은 벽돌 위에 밑면이 넓은 벽돌은 놓을 수 없다.\n",
    "> 5. 무게가 무거운 벽돌을 무게가 가벼운 벽돌 위에 놓을 수 없다."
   ]
  },
  {
   "cell_type": "markdown",
   "metadata": {},
   "source": [
    "**입력**\n",
    "- 첫째 줄에는 입력될 벽돌의 수가 주어진다. 입력으로 주어지는 벽돌의 수는 최대 100개이다. 둘째 줄부터는 각 줄에 한 개의 벽돌에 관한 정보인 벽돌 밑면의 넓이, 벽돌의 높이 그리고 무게가 차례대로 양의 정수로 주어진다. 각 벽돌은 입력되는 순서대로 1부터 연속적인 번호를 가진다. 벽돌의 넓이, 높이 무게는 10,000보다 작거나 같은 자연수이다."
   ]
  },
  {
   "cell_type": "markdown",
   "metadata": {},
   "source": [
    "**출력**\n",
    "- 탑을 쌓을 때 사용된 벽돌의 수를 빈칸없이 출력하고, 두 번째 줄부터는 탑의 가장 위 벽돌부터 가장 아래 벽돌까지 차례로 한 줄에 하나씩 벽돌 번호를 빈칸없이 출력한다."
   ]
  },
  {
   "cell_type": "markdown",
   "metadata": {},
   "source": [
    "**입력 예제**\n",
    "```\n",
    "5\n",
    "25 3 4\n",
    "4 4 6\n",
    "9 2 3\n",
    "16 2 5\n",
    "1 5 2\n",
    "```"
   ]
  },
  {
   "cell_type": "markdown",
   "metadata": {},
   "source": [
    "**출력 예제**\n",
    "```\n",
    "3\n",
    "5\n",
    "3\n",
    "1\n",
    "```"
   ]
  },
  {
   "cell_type": "markdown",
   "metadata": {},
   "source": [
    "**문제 풀이 핵심 아이디어**\n",
    "- 가장 긴 증가하는 부분 수열(LIS) 문제의 심화 변형 문제입니다.\n",
    "- 벽돌의 수가 N개일 때, 시간 복잡도 $O(N^2)$ 으로 해결할 수 있습니다.\n",
    "- 벽돌의 번호를 출력해야 한다는 점에서, 계산된 테이블을 역추적할 수 있어야 합니다.\n",
    "\n",
    "\n",
    "- 가장 먼저 벽돌을 무게 기준으로 정렬합니다.\n",
    "- D[i] = 인덱스가 i인 벽돌을 가장 아래에 두었을 때의 높이\n",
    "- 각 벽돌에 대해서 확인하며 D[i]를 갱신합니다.\n",
    "- 모든 0 ≤ j < i 에 대하여, D[i] = max(D[i], D[j] + height[i])  if area[i] > area[j]"
   ]
  },
  {
   "cell_type": "markdown",
   "metadata": {},
   "source": [
    "<img src=\"https://i.ibb.co/vZGrgm8/alg.jpg\" alt=\"alg\" border=\"0\">"
   ]
  },
  {
   "cell_type": "markdown",
   "metadata": {},
   "source": [
    "**소스코드**"
   ]
  },
  {
   "cell_type": "code",
   "execution_count": 7,
   "metadata": {},
   "outputs": [
    {
     "name": "stdout",
     "output_type": "stream",
     "text": [
      "5\n",
      "25 3 4\n",
      "4 4 6\n",
      "9 2 3\n",
      "16 2 5\n",
      "1 5 2\n"
     ]
    }
   ],
   "source": [
    "n = int(input())\n",
    "array = [(0, 0, 0, 0)]\n",
    "\n",
    "for idx in range(1, n + 1):\n",
    "    a, h, w = map(int, input().split())\n",
    "    array.append((idx, a, h, w))"
   ]
  },
  {
   "cell_type": "code",
   "execution_count": 9,
   "metadata": {},
   "outputs": [],
   "source": [
    "array = sorted(array, key=lambda x: x[3])  # 무게 순으로 정렬"
   ]
  },
  {
   "cell_type": "code",
   "execution_count": 27,
   "metadata": {},
   "outputs": [],
   "source": [
    "dp = [0] * (n + 1)"
   ]
  },
  {
   "cell_type": "code",
   "execution_count": 28,
   "metadata": {},
   "outputs": [],
   "source": [
    "for i in range(1, n + 1):\n",
    "    for j in range(0, i):\n",
    "        if array[i][1] > array[j][1]:  # 현재 벽돌의 넓이가 더 크다면\n",
    "            dp[i] = max(dp[i], dp[j] + array[i][2])"
   ]
  },
  {
   "cell_type": "code",
   "execution_count": 30,
   "metadata": {},
   "outputs": [],
   "source": [
    "# 역추적\n",
    "max_value = max(dp)\n",
    "idx = n\n",
    "result = []\n",
    "\n",
    "while idx != 0:\n",
    "    if max_value == dp[idx]:\n",
    "        result.append(array[idx][0])\n",
    "        max_value -= array[idx][2]\n",
    "    idx -= 1"
   ]
  },
  {
   "cell_type": "code",
   "execution_count": 31,
   "metadata": {},
   "outputs": [
    {
     "name": "stdout",
     "output_type": "stream",
     "text": [
      "3\n",
      "5\n",
      "3\n",
      "1\n"
     ]
    }
   ],
   "source": [
    "result.reverse()\n",
    "print(len(result))\n",
    "for idx in result:\n",
    "    print(idx)"
   ]
  }
 ],
 "metadata": {
  "kernelspec": {
   "display_name": "Python 3",
   "language": "python",
   "name": "python3"
  },
  "language_info": {
   "codemirror_mode": {
    "name": "ipython",
    "version": 3
   },
   "file_extension": ".py",
   "mimetype": "text/x-python",
   "name": "python",
   "nbconvert_exporter": "python",
   "pygments_lexer": "ipython3",
   "version": "3.8.1"
  }
 },
 "nbformat": 4,
 "nbformat_minor": 4
}
