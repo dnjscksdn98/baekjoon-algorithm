{
 "cells": [
  {
   "cell_type": "markdown",
   "metadata": {},
   "source": [
    "### 10. 소트인사이드"
   ]
  },
  {
   "cell_type": "markdown",
   "metadata": {},
   "source": [
    "**문제**\n",
    "- 배열을 정렬하는 것은 쉽다. 수가 주어지면, 그 수의 각 자리수를 내림차순으로 정렬해보자."
   ]
  },
  {
   "cell_type": "markdown",
   "metadata": {},
   "source": [
    "**입력**\n",
    "- 첫째 줄에 정렬하고자하는 수 N이 주어진다. N은 1,000,000,000보다 작거나 같은 자연수이다."
   ]
  },
  {
   "cell_type": "markdown",
   "metadata": {},
   "source": [
    "**출력**\n",
    "- 첫째 줄에 자리수를 내림차순으로 정렬한 수를 출력한다."
   ]
  },
  {
   "cell_type": "code",
   "execution_count": 17,
   "metadata": {},
   "outputs": [
    {
     "name": "stdout",
     "output_type": "stream",
     "text": [
      "712983\n",
      "987321\n"
     ]
    }
   ],
   "source": [
    "def selection_sort(num):\n",
    "    num = list(num)\n",
    "    \n",
    "    for idx in range(len(num) - 1):\n",
    "        max_idx = idx\n",
    "        for idx2 in range(idx + 1, len(num)):\n",
    "            if num[max_idx] < num[idx2]:\n",
    "                max_idx = idx2\n",
    "        num[max_idx], num[idx] = num[idx], num[max_idx]\n",
    "        \n",
    "    return ''.join(num)\n",
    "\n",
    "num = input()\n",
    "print(selection_sort(num))"
   ]
  },
  {
   "cell_type": "code",
   "execution_count": 18,
   "metadata": {},
   "outputs": [
    {
     "name": "stdout",
     "output_type": "stream",
     "text": [
      "37192\n",
      "97321"
     ]
    }
   ],
   "source": [
    "array = input()\n",
    "\n",
    "for idx in range(9, -1, -1):\n",
    "    for a in array:\n",
    "        if int(a) == idx:\n",
    "            print(idx, end='')"
   ]
  }
 ],
 "metadata": {
  "kernelspec": {
   "display_name": "Python 3",
   "language": "python",
   "name": "python3"
  },
  "language_info": {
   "codemirror_mode": {
    "name": "ipython",
    "version": 3
   },
   "file_extension": ".py",
   "mimetype": "text/x-python",
   "name": "python",
   "nbconvert_exporter": "python",
   "pygments_lexer": "ipython3",
   "version": "3.6.9"
  }
 },
 "nbformat": 4,
 "nbformat_minor": 4
}
