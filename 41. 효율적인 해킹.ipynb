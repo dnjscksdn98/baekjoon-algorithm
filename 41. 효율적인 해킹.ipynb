{
 "cells": [
  {
   "cell_type": "markdown",
   "metadata": {},
   "source": [
    "### 41. 효율적인 해킹\n",
    "- [1325](https://www.acmicpc.net/problem/1325)\n",
    "- 난이도: 하\n",
    "- 문제 유형: DFS, BFS\n",
    "- 그래프 기본 탐색: 핵심 유형 문제풀이"
   ]
  },
  {
   "cell_type": "markdown",
   "metadata": {},
   "source": [
    "**문제**\n",
    "- 해커 김지민은 잘 알려진 어느 회사를 해킹하려고 한다. 이 회사는 N개의 컴퓨터로 이루어져 있다. 김지민은 귀찮기 때문에, 한 번의 해킹으로 여러 개의 컴퓨터를 해킹 할 수 있는 컴퓨터를 해킹하려고 한다.\n",
    "\n",
    "- 이 회사의 컴퓨터는 신뢰하는 관계와, 신뢰하지 않는 관계로 이루어져 있는데, A가 B를 신뢰하는 경우에는 B를 해킹하면, A도 해킹할 수 있다는 소리다.\n",
    "\n",
    "- 이 회사의 컴퓨터의 신뢰하는 관계가 주어졌을 때, 한 번에 가장 많은 컴퓨터를 해킹할 수 있는 컴퓨터의 번호를 출력하는 프로그램을 작성하시오."
   ]
  },
  {
   "cell_type": "markdown",
   "metadata": {},
   "source": [
    "**입력**\n",
    "- 첫째 줄에, N과 M이 들어온다. N은 10,000보다 작거나 같은 자연수, M은 100,000보다 작거나 같은 자연수이다. 둘째 줄부터 M개의 줄에 신뢰하는 관계가 A B와 같은 형식으로 들어오며, \"A가 B를 신뢰한다\"를 의미한다. 컴퓨터는 1번부터 N번까지 번호가 하나씩 매겨져 있다."
   ]
  },
  {
   "cell_type": "markdown",
   "metadata": {},
   "source": [
    "**출력**\n",
    "- 첫째 줄에, 김지민이 한 번에 가장 많은 컴퓨터를 해킹할 수 있는 컴퓨터의 번호를 오름차순으로 출력한다."
   ]
  },
  {
   "cell_type": "markdown",
   "metadata": {},
   "source": [
    "**예제 입력**\n",
    "```\n",
    "5 4\n",
    "3 1\n",
    "3 2\n",
    "4 3\n",
    "5 3\n",
    "```"
   ]
  },
  {
   "cell_type": "markdown",
   "metadata": {},
   "source": [
    "**예제 출력**\n",
    "```\n",
    "1 2\n",
    "```"
   ]
  },
  {
   "cell_type": "markdown",
   "metadata": {},
   "source": [
    "**문제 풀이 핵심 아이디어**\n",
    "- 모든 정점에 대하여 DFS 또는 BFS를 수행합니다.\n",
    "- DFS 혹은 BFS를 수행할 때마다 방문하게 되는 노드의 개수를 계산하면 됩니다.\n",
    "- 가장 노드의 개수가 크게 되는 시작 정점을 출력합니다."
   ]
  },
  {
   "cell_type": "markdown",
   "metadata": {},
   "source": [
    "**나의 소스코드**"
   ]
  },
  {
   "cell_type": "code",
   "execution_count": 15,
   "metadata": {},
   "outputs": [
    {
     "name": "stdout",
     "output_type": "stream",
     "text": [
      "5 4\n",
      "3 1\n",
      "3 2\n",
      "4 3\n",
      "5 3\n",
      "1 2 "
     ]
    }
   ],
   "source": [
    "from collections import deque\n",
    "\n",
    "def bfs(node):\n",
    "    q = deque([node])\n",
    "    visited = [0] * (n + 1)\n",
    "    visited[node] = 1\n",
    "    cnt = 1\n",
    "    \n",
    "    while q:\n",
    "        v = q.popleft()\n",
    "        for adj in graph[v]:\n",
    "            if not visited[adj]:\n",
    "                q.append(adj)\n",
    "                visited[adj] = 1\n",
    "                cnt += 1\n",
    "        \n",
    "    return cnt\n",
    "    \n",
    "n, m = map(int, input().split())\n",
    "graph = [[] for _ in range(n + 1)]\n",
    "\n",
    "for _ in range(m):\n",
    "    x, y = map(int, input().split())\n",
    "    graph[y].append(x)\n",
    "\n",
    "result = []\n",
    "max_value = -1\n",
    "\n",
    "for i in range(1, n + 1):\n",
    "    cnt = bfs(i)\n",
    "    \n",
    "    if cnt > max_value:\n",
    "        result = [i]\n",
    "        max_value = cnt\n",
    "    \n",
    "    elif cnt == max_value:\n",
    "        result.append(i)\n",
    "        max_value = cnt\n",
    "\n",
    "for r in result:\n",
    "    print(r, end=' ')"
   ]
  }
 ],
 "metadata": {
  "kernelspec": {
   "display_name": "Python 3",
   "language": "python",
   "name": "python3"
  },
  "language_info": {
   "codemirror_mode": {
    "name": "ipython",
    "version": 3
   },
   "file_extension": ".py",
   "mimetype": "text/x-python",
   "name": "python",
   "nbconvert_exporter": "python",
   "pygments_lexer": "ipython3",
   "version": "3.8.1"
  }
 },
 "nbformat": 4,
 "nbformat_minor": 4
}
