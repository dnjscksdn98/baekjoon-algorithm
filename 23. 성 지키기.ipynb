{
 "cells": [
  {
   "cell_type": "markdown",
   "metadata": {},
   "source": [
    "### 23. 성 지키기"
   ]
  },
  {
   "cell_type": "markdown",
   "metadata": {},
   "source": [
    "**문제**\n",
    "- 영식이는 직사각형 모양의 성을 가지고 있다. 성의 1층은 몇 명의 경비원에 의해서 보호되고 있다. 영식이는 모든 행과 모든 열에 한 명 이상의 경비원이 있으면 좋겠다고 생각했다.\n",
    "\n",
    "- 성의 크기와 경비원이 어디있는지 주어졌을 때, 몇 명의 경비원을 최소로 추가해야 영식이를 만족시키는지 구하는 프로그램을 작성하시오."
   ]
  },
  {
   "cell_type": "markdown",
   "metadata": {},
   "source": [
    "**입력**\n",
    "- 첫째 줄에 성의 세로 크기 N과 가로 크기 M이 주어진다. N과 M은 50보다 작거나 같은 자연수이다. 둘째 줄부터 N개의 줄에는 성의 상태가 주어진다. 성의 상태는 .은 빈칸, X는 경비원이 있는 칸이다."
   ]
  },
  {
   "cell_type": "markdown",
   "metadata": {},
   "source": [
    "**출력**\n",
    "- 첫째 줄에 추가해야 하는 경비원의 최솟값을 출력한다."
   ]
  },
  {
   "cell_type": "markdown",
   "metadata": {},
   "source": [
    "**예제 입력**\n",
    "```\n",
    "4 4\n",
    "....\n",
    "....\n",
    "....\n",
    "....\n",
    "```"
   ]
  },
  {
   "cell_type": "markdown",
   "metadata": {},
   "source": [
    "**예제 출력**\n",
    "```\n",
    "4\n",
    "```"
   ]
  },
  {
   "cell_type": "markdown",
   "metadata": {},
   "source": [
    "**문제 풀이 핵심 아이디어**\n",
    "- 모든 행과 모든 열에 한 명 이상의 경비원이 있어야 합니다.\n",
    "- 행 기준, 열 기준으로 필요한 경비원의 수를 각각 계산하여 더 큰 수를 출력합니다."
   ]
  },
  {
   "cell_type": "code",
   "execution_count": 25,
   "metadata": {},
   "outputs": [
    {
     "name": "stdout",
     "output_type": "stream",
     "text": [
      "4 4\n",
      "....\n",
      ".X..\n",
      "..XX\n",
      "....\n",
      "2\n"
     ]
    }
   ],
   "source": [
    "def get_empty_line(array):\n",
    "    cnt = 0\n",
    "    for line in array:\n",
    "        if 'X' not in line:\n",
    "            cnt += 1\n",
    "    return cnt\n",
    "\n",
    "N, M = map(int, input().split(' '))\n",
    "array = list()\n",
    "for _ in range(N):\n",
    "    array.append(list(input()))\n",
    "\n",
    "row_cnt = get_empty_line(array)\n",
    "\n",
    "array = [list(x) for x in zip(*array)]\n",
    "col_cnt = get_empty_line(array)\n",
    "\n",
    "print(max(row_cnt, col_cnt))"
   ]
  }
 ],
 "metadata": {
  "kernelspec": {
   "display_name": "Python 3",
   "language": "python",
   "name": "python3"
  },
  "language_info": {
   "codemirror_mode": {
    "name": "ipython",
    "version": 3
   },
   "file_extension": ".py",
   "mimetype": "text/x-python",
   "name": "python",
   "nbconvert_exporter": "python",
   "pygments_lexer": "ipython3",
   "version": "3.6.9"
  }
 },
 "nbformat": 4,
 "nbformat_minor": 4
}
