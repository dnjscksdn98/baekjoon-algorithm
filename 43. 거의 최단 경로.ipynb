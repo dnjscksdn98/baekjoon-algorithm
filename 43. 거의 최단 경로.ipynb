{
 "cells": [
  {
   "cell_type": "markdown",
   "metadata": {},
   "source": [
    "### 43. 거의 최단 경로\n",
    "- [#5719](https://www.acmicpc.net/problem/5719)\n",
    "- 난이도: 중\n",
    "- 문제 유형: 다익스트라 최단 경로\n",
    "- 그래프 고급 탐색: 핵심 유형 문제풀이"
   ]
  },
  {
   "cell_type": "markdown",
   "metadata": {},
   "source": [
    "**문제**\n",
    "\n",
    "요즘 많은 자동차에서는 GPS 네비게이션 장비가 설치되어 있다. 네비게이션은 사용자가 입력한 출발점과 도착점 사이의 최단 경로를 검색해 준다. 하지만, 교통 상황을 고려하지 않고 최단 경로를 검색하는 경우에는 극심한 교통 정체를 경험할 수 있다.\n",
    "\n",
    "상근이는 오직 자기 자신만 사용 가능한 네비게이션을 만들고 있다. 이 네비게이션은 절대로 최단 경로를 찾아주지 않는다. 항상 거의 최단 경로를 찾아준다.\n",
    "\n",
    "거의 최단 경로란 최단 경로에 포함되지 않는 도로로만 이루어진 경로 중 가장 짧은 것을 말한다. \n",
    "\n",
    "예를 들어, 도로 지도가 아래와 같을 때를 생각해보자. 원은 장소를 의미하고, 선은 단방향 도로를 나타낸다. 시작점은 S, 도착점은 D로 표시되어 있다. 굵은 선은 최단 경로를 나타낸다. (아래 그림에 최단 경로는 두 개가 있다)거의 최단 경로는 점선으로 표시된 경로이다. 이 경로는 최단 경로에 포함되지 않은 도로로 이루어진 경로 중 가장 짧은 경로이다. 거의 최단 경로는 여러 개 존재할 수도 있다. 예를 들어, 아래 그림의 길이가 3인 도로의 길이가 1이라면, 거의 최단 경로는 두 개가 된다. 또, 거의 최단 경로가 없는 경우도 있다."
   ]
  },
  {
   "cell_type": "markdown",
   "metadata": {},
   "source": [
    "<a><img src=\"https://www.acmicpc.net/upload/images/almost.png\"></a>"
   ]
  },
  {
   "cell_type": "markdown",
   "metadata": {},
   "source": [
    "**입력**\n",
    "\n",
    "입력은 여러 개의 테스트 케이스로 이루어져 있다. 각 테스트 케이스의 첫째 줄에는 장소의 수 N (2 ≤ N ≤ 500)과 도로의 수 M (1 ≤ M ≤ $10^4$)가 주어진다. 장소는 0부터 N-1번까지 번호가 매겨져 있다. 둘째 줄에는 시작점 S와 도착점 D가 주어진다. (S ≠ D; 0 ≤ S, D < N) 다음 M개 줄에는 도로의 정보 U, V, P가 주어진다. (U ≠ V ; 0 ≤ U, V < N; 1 ≤ P ≤ $10^3$) 이 뜻은 U에서 V로 가는 도로의 길이가 P라는 뜻이다. U에서 V로 가는 도로는 최대 한 개이다. 또, U에서 V로 가는 도로와 V에서 U로 가는 도로는 다른 도로이다. \n",
    "\n",
    "입력의 마지막 줄에는 0이 두 개 주어진다."
   ]
  },
  {
   "cell_type": "markdown",
   "metadata": {},
   "source": [
    "**출력**\n",
    "\n",
    "각 테스트 케이스에 대해서, 거의 최단 경로의 길이를 출력한다. 만약, 거의 최단 경로가 없는 경우에는 -1을 출력한다."
   ]
  },
  {
   "cell_type": "markdown",
   "metadata": {},
   "source": [
    "**예제 입력**\n",
    "```\n",
    "7 9\n",
    "0 6\n",
    "0 1 1\n",
    "0 2 1\n",
    "0 3 2\n",
    "0 4 3\n",
    "1 5 2\n",
    "2 6 4\n",
    "3 6 2\n",
    "4 6 4\n",
    "5 6 1\n",
    "4 6\n",
    "0 2\n",
    "0 1 1\n",
    "1 2 1\n",
    "1 3 1\n",
    "3 2 1\n",
    "2 0 3\n",
    "3 0 2\n",
    "6 8\n",
    "0 1\n",
    "0 1 1\n",
    "0 2 2\n",
    "0 3 3\n",
    "2 5 3\n",
    "3 4 2\n",
    "4 1 1\n",
    "5 1 1\n",
    "3 0 1\n",
    "0 0\n",
    "```"
   ]
  },
  {
   "cell_type": "markdown",
   "metadata": {},
   "source": [
    "**예제 출력**\n",
    "```\n",
    "5\n",
    "-1\n",
    "6\n",
    "```"
   ]
  },
  {
   "cell_type": "markdown",
   "metadata": {},
   "source": [
    "**문제 풀이 핵심 아이디어**\n",
    "- 다익스트라 최단 경로 알고리즘을 수행합니다.\n",
    "- 다익스트라 최단 경로에 포함되는 **모든 간선을 추적**해야 합니다.\n",
    "- **초기 최단 경로에 포함된 간선을 제외한 뒤에, 다시 최단 경로를 탐색**하면 됩니다.\n",
    "- 즉, 다익스트라 알고리즘을 **두번** 수행하면 됩니다."
   ]
  },
  {
   "cell_type": "markdown",
   "metadata": {},
   "source": [
    "**나의 소스코드**"
   ]
  },
  {
   "cell_type": "code",
   "execution_count": 4,
   "metadata": {},
   "outputs": [
    {
     "name": "stdout",
     "output_type": "stream",
     "text": [
      "6 8\n",
      "0 1\n",
      "0 1 1\n",
      "0 2 2\n",
      "0 3 3\n",
      "2 5 3\n",
      "3 4 2\n",
      "4 1 1\n",
      "5 1 1\n",
      "3 0 1\n",
      "-1\n",
      "0 0\n"
     ]
    }
   ],
   "source": [
    "import sys\n",
    "import heapq\n",
    "from collections import defaultdict, deque\n",
    "input = sys.stdin.readline\n",
    "\n",
    "def dijkstra():\n",
    "    distances = [float('inf')] * (n + 1)\n",
    "    distances[start] = 0\n",
    "    \n",
    "    queue = []\n",
    "    heapq.heappush(queue, [0, start])\n",
    "        \n",
    "    while queue:\n",
    "        current_distance, current_node = heapq.heappop(queue)\n",
    "        \n",
    "        if distances[current_node] < current_distance:\n",
    "            continue\n",
    "        \n",
    "        for adj, w in graph[current_node]:\n",
    "            new_distance = current_distance + w\n",
    "            \n",
    "            if distances[adj] > new_distance and not dropped[current_node][adj]:\n",
    "                distances[adj] = new_distance\n",
    "                heapq.heappush(queue, [new_distance, adj])\n",
    "                \n",
    "    return distances\n",
    "\n",
    "# BFS를 통해 최단 거리 역추적\n",
    "def bfs():\n",
    "    queue = deque([end])\n",
    "    \n",
    "    while queue:\n",
    "        node = queue.popleft()\n",
    "        \n",
    "        if node == start:\n",
    "            continue\n",
    "            \n",
    "        for prev, w in reverse_graph[node]:\n",
    "            if distances[node] == distances[prev] + w:\n",
    "                dropped[prev][node] = 1\n",
    "                queue.append(prev)\n",
    "\n",
    "while True:\n",
    "    n, m = map(int, input().split())\n",
    "    if n == 0 and m == 0:\n",
    "        break\n",
    "    \n",
    "    start, end = map(int, input().split())\n",
    "    graph = defaultdict(list)\n",
    "    reverse_graph = defaultdict(list)\n",
    "    dropped = [[0] * (n + 1) for _ in range(n + 1)]\n",
    "    \n",
    "    for _ in range(m):\n",
    "        x, y, w = map(int, input().split())\n",
    "        graph[x].append((y, w))\n",
    "        reverse_graph[y].append((x, w))\n",
    "        \n",
    "    distances = dijkstra()\n",
    "    bfs()\n",
    "    distances = dijkstra()\n",
    "    \n",
    "    if distances[end] != float('inf'):\n",
    "        print(distances[end])\n",
    "    else:\n",
    "        print(-1)"
   ]
  }
 ],
 "metadata": {
  "kernelspec": {
   "display_name": "Python 3",
   "language": "python",
   "name": "python3"
  },
  "language_info": {
   "codemirror_mode": {
    "name": "ipython",
    "version": 3
   },
   "file_extension": ".py",
   "mimetype": "text/x-python",
   "name": "python",
   "nbconvert_exporter": "python",
   "pygments_lexer": "ipython3",
   "version": "3.8.1"
  }
 },
 "nbformat": 4,
 "nbformat_minor": 4
}
