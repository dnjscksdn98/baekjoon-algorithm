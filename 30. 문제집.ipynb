{
 "cells": [
  {
   "cell_type": "markdown",
   "metadata": {},
   "source": [
    "### 30. 문제집\n",
    "- [#1766](https://www.acmicpc.net/problem/1766)"
   ]
  },
  {
   "cell_type": "markdown",
   "metadata": {},
   "source": [
    "**문제 풀이 핵심 아이디어**\n",
    "- 본 문제는 전형적인 **위상 정렬** 문제입니다.\n",
    "- 위상 정렬은 **순서가 정해져 있는 작업**들을 차례대로 수행해야 할 때, 순서를 결정해주는 알고리즘입니다.\n",
    "- 위상 정렬의 시간 복잡도는 $O(V + E)$로 문제를 해결할 수 있습니다."
   ]
  },
  {
   "cell_type": "markdown",
   "metadata": {},
   "source": [
    "**위상 정렬 알고리즘**\n",
    "1. 진입 차수가 0인 정점을 큐에 삽입합니다.\n",
    "2. 큐에서 원소를 꺼내 해당 원소와 간선을 제거합니다.\n",
    "3. 제거 이후에 진입 차수가 0이 된 정점을 큐에 삽입합니다.\n",
    "4. 큐가 빌 때까지 2, 3 과정을 반복합니다.\n",
    "\n",
    "- 모든 원소를 방문하기 전에 큐가 빈다면 사이클이 존재하는 것입니다.\n",
    "- 모든 원소를 방문했다면 큐에서 꺼낸 순서가 위상 정렬의 결과입니다."
   ]
  },
  {
   "cell_type": "code",
   "execution_count": null,
   "metadata": {},
   "outputs": [],
   "source": [
    "n, m = map(int, input().split())\n",
    "\n"
   ]
  }
 ],
 "metadata": {
  "kernelspec": {
   "display_name": "Python 3",
   "language": "python",
   "name": "python3"
  },
  "language_info": {
   "codemirror_mode": {
    "name": "ipython",
    "version": 3
   },
   "file_extension": ".py",
   "mimetype": "text/x-python",
   "name": "python",
   "nbconvert_exporter": "python",
   "pygments_lexer": "ipython3",
   "version": "3.6.9"
  }
 },
 "nbformat": 4,
 "nbformat_minor": 4
}
