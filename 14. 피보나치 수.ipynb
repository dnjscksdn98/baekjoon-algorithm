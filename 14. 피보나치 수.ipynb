{
 "cells": [
  {
   "cell_type": "markdown",
   "metadata": {},
   "source": [
    "### 14. 피보나치 수"
   ]
  },
  {
   "cell_type": "markdown",
   "metadata": {},
   "source": [
    "**문제**\n",
    "- 피보나치 수는 0과 1로 시작한다. 0번째 피보나치 수는 0이고, 1번째 피보나치 수는 1이다. 그 다음 2번째 부터는 바로 앞 두 피보나치 수의 합이 된다.\n",
    "\n",
    "- 이를 식으로 써보면 Fn = Fn-1 + Fn-2 (n>=2)가 된다.\n",
    "\n",
    "- n=17일때 까지 피보나치 수를 써보면 다음과 같다.\n",
    "\n",
    "- 0, 1, 1, 2, 3, 5, 8, 13, 21, 34, 55, 89, 144, 233, 377, 610, 987, 1597\n",
    "\n",
    "- n이 주어졌을 때, n번째 피보나치 수를 구하는 프로그램을 작성하시오."
   ]
  },
  {
   "cell_type": "markdown",
   "metadata": {},
   "source": [
    "**입력**\n",
    "- 첫째 줄에 n이 주어진다. n은 45보다 작거나 같은 자연수이다."
   ]
  },
  {
   "cell_type": "markdown",
   "metadata": {},
   "source": [
    "**출력**\n",
    "- 첫째 줄에 n번째 피보나치 수를 출력한다."
   ]
  },
  {
   "cell_type": "markdown",
   "metadata": {},
   "source": [
    "**시간 복잡도**\n",
    "- ${O(2^n)}$\n",
    "- n이 커질수록 시간 복잡도는 어마어마하게 커진다\n",
    "- 재귀함수의 한계점"
   ]
  },
  {
   "cell_type": "markdown",
   "metadata": {},
   "source": [
    "**1) 재귀함수 풀이**"
   ]
  },
  {
   "cell_type": "code",
   "execution_count": 9,
   "metadata": {},
   "outputs": [
    {
     "name": "stdout",
     "output_type": "stream",
     "text": [
      "17\n",
      "1597\n"
     ]
    }
   ],
   "source": [
    "def fibo(num):\n",
    "    if num < 2:\n",
    "        return num\n",
    "    \n",
    "    return fibo(num - 1) + fibo(num - 2)\n",
    "    \n",
    "\n",
    "n = int(input())\n",
    "result = fibo(n)\n",
    "print(result)"
   ]
  },
  {
   "cell_type": "markdown",
   "metadata": {},
   "source": [
    "**2) 반복문 풀이**"
   ]
  },
  {
   "cell_type": "code",
   "execution_count": 11,
   "metadata": {},
   "outputs": [
    {
     "name": "stdout",
     "output_type": "stream",
     "text": [
      "17\n",
      "1597\n"
     ]
    }
   ],
   "source": [
    "n = int(input())\n",
    "\n",
    "f1, f2 = 0, 1\n",
    "\n",
    "while n > 0:\n",
    "    f1, f2 = f2, f1 + f2\n",
    "    n -= 1\n",
    "    \n",
    "print(f1)"
   ]
  }
 ],
 "metadata": {
  "kernelspec": {
   "display_name": "Python 3",
   "language": "python",
   "name": "python3"
  },
  "language_info": {
   "codemirror_mode": {
    "name": "ipython",
    "version": 3
   },
   "file_extension": ".py",
   "mimetype": "text/x-python",
   "name": "python",
   "nbconvert_exporter": "python",
   "pygments_lexer": "ipython3",
   "version": "3.6.9"
  }
 },
 "nbformat": 4,
 "nbformat_minor": 4
}
