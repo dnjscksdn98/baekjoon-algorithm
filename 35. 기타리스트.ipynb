{
 "cells": [
  {
   "cell_type": "markdown",
   "metadata": {},
   "source": [
    "### 35. 기타리스트\n",
    "- [#1495](https://www.acmicpc.net/problem/1495)\n",
    "- 동적 프로그래밍: 핵심 유형 문제풀이 #2"
   ]
  },
  {
   "cell_type": "markdown",
   "metadata": {},
   "source": [
    "**문제**\n",
    "- Day Of Mourning의 기타리스트 강토는 다가오는 공연에서 연주할 N개의 곡을 연주하고 있다. 지금까지 공연과는 다른 공연을 보여주기 위해서 이번 공연에서는 매번 곡이 시작하기 전에 볼륨을 바꾸고 연주하려고 한다.\n",
    "\n",
    "- 먼저, 공연이 시작하기 전에 각각의 곡이 시작하기 전에 바꿀 수 있는 볼륨의 리스트를 만들었다. 이 리스트를 V라고 했을 때, V[i]는 i번째 곡을 연주하기 전에 바꿀 수 있는 볼륨을 의미한다. 항상 리스트에 적힌 차이로만 볼륨을 바꿀 수 있다. 즉, 현재 볼륨이 P이고 지금 i번째 곡을 연주하기 전이라면, i번 곡은 P+V[i]나 P-V[i] 로 연주해야 한다. 하지만, 0보다 작은 값으로 볼륨을 바꾸거나, M보다 큰 값으로 볼륨을 바꿀 수 없다.\n",
    "\n",
    "- 곡의 개수 N과 시작 볼륨 S, 그리고 M이 주어졌을 때, 마지막 곡을 연주할 수 있는 볼륨 중 최댓값을 구하는 프로그램을 작성하시오. 모든 곡은 리스트에 적힌 순서대로 연주해야 한다."
   ]
  },
  {
   "cell_type": "markdown",
   "metadata": {},
   "source": [
    "**입력**\n",
    "- 첫째 줄에 N, S, M이 주어진다. (1 ≤ N ≤ 100, 1 ≤ M ≤ 1000, 0 ≤ S ≤ M) 둘째 줄에는 각 곡이 시작하기 전에 줄 수 있는 볼륨의 차이가 주어진다. 이 값은 1보다 크거나 같고, M보다 작거나 같다."
   ]
  },
  {
   "cell_type": "markdown",
   "metadata": {},
   "source": [
    "**출력**\n",
    "- 첫째 줄에 가능한 마지막 곡의 볼륨 중 최댓값을 출력한다. 만약 마지막 곡을 연주할 수 없다면 (중간에 볼륨 조절을 할 수 없다면) -1을 출력한다."
   ]
  },
  {
   "cell_type": "markdown",
   "metadata": {},
   "source": [
    "**예제 입력**\n",
    "```\n",
    "3 5 10\n",
    "5 3 7\n",
    "```"
   ]
  },
  {
   "cell_type": "markdown",
   "metadata": {},
   "source": [
    "**예제 출력**\n",
    "```\n",
    "10\n",
    "```"
   ]
  },
  {
   "cell_type": "markdown",
   "metadata": {},
   "source": [
    "**문제 풀이 핵심 아이디어**\n",
    "- 차례대로 곡을 연주한다는 점에서, 동적 프로그래밍으로 해결할 수 있는 문제입니다.\n",
    "- 곡의 개수가 N, 볼륨의 최댓값은 M입니다.\n",
    "- 동적 프로그래밍을 이용하여 시간 복잡도 $O(NM)$으로 문제를 해결할 수 있습니다.\n",
    "\n",
    "\n",
    "- **핵심 아이디어**: **<U>모든 볼륨</U>** 에 대하여 연주 가능 여부를 계산하기\n",
    "- D[i][j + 1] = i 번째 노래일 때, j 크기의 볼륨으로 연주 가능한지에 대한 여부\n",
    "- 노래를 순서대로 확인하며, 매 번 모든 크기의 볼륨에 대하여 검사합니다.\n",
    "- D[i][j - v[i]] = True if D[i - 1][j] = True\n",
    "- D[i][j + v[i]] = True if D[i - 1][j] = True"
   ]
  },
  {
   "cell_type": "markdown",
   "metadata": {},
   "source": [
    "**소스코드**"
   ]
  },
  {
   "cell_type": "code",
   "execution_count": 17,
   "metadata": {},
   "outputs": [
    {
     "name": "stdout",
     "output_type": "stream",
     "text": [
      "3 5 10\n",
      "5 3 7\n"
     ]
    }
   ],
   "source": [
    "n, s, m = map(int, input().split())\n",
    "v = list(map(int, input().split()))"
   ]
  },
  {
   "cell_type": "code",
   "execution_count": 18,
   "metadata": {},
   "outputs": [],
   "source": [
    "D = [[0] * (m + 1) for _ in range(n + 1)]\n",
    "D[0][s] = 1"
   ]
  },
  {
   "cell_type": "code",
   "execution_count": 20,
   "metadata": {},
   "outputs": [
    {
     "name": "stdout",
     "output_type": "stream",
     "text": [
      "10\n"
     ]
    }
   ],
   "source": [
    "for i in range(1, len(D)):\n",
    "    for j in range(len(D[0])):        \n",
    "        if D[i - 1][j] == 0:\n",
    "            continue\n",
    "        \n",
    "        vol_down = j - v[i - 1]\n",
    "        vol_up = j + v[i - 1]\n",
    "        \n",
    "        if vol_down >= 0:\n",
    "            D[i][vol_down] = 1\n",
    "            \n",
    "        if vol_up <= m:\n",
    "            D[i][vol_up] = 1\n",
    "        \n",
    "result = -1\n",
    "for idx in range(m, -1 ,-1):\n",
    "    if D[n][idx] == 1:\n",
    "        result = idx\n",
    "        break\n",
    "\n",
    "print(result)"
   ]
  }
 ],
 "metadata": {
  "kernelspec": {
   "display_name": "Python 3",
   "language": "python",
   "name": "python3"
  },
  "language_info": {
   "codemirror_mode": {
    "name": "ipython",
    "version": 3
   },
   "file_extension": ".py",
   "mimetype": "text/x-python",
   "name": "python",
   "nbconvert_exporter": "python",
   "pygments_lexer": "ipython3",
   "version": "3.8.1"
  }
 },
 "nbformat": 4,
 "nbformat_minor": 4
}
