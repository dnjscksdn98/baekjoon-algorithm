{
 "cells": [
  {
   "cell_type": "markdown",
   "metadata": {},
   "source": [
    "### 09. 수 정렬하기"
   ]
  },
  {
   "cell_type": "markdown",
   "metadata": {},
   "source": [
    "**문제**\n",
    "- N개의 수가 주어졌을 때, 이를 오름차순으로 정렬하는 프로그램을 작성하시오."
   ]
  },
  {
   "cell_type": "markdown",
   "metadata": {},
   "source": [
    "**입력**\n",
    "- 첫째 줄에 수의 개수 N(1 ≤ N ≤ 1,000)이 주어진다. 둘째 줄부터 N개의 줄에는 숫자가 주어진다. 이 수는 절댓값이 1,000보다 작거나 같은 정수이다. 수는 중복되지 않는다."
   ]
  },
  {
   "cell_type": "markdown",
   "metadata": {},
   "source": [
    "**출력**\n",
    "- 첫째 줄부터 N개의 줄에 오름차순으로 정렬한 결과를 한 줄에 하나씩 출력한다."
   ]
  },
  {
   "cell_type": "code",
   "execution_count": 5,
   "metadata": {},
   "outputs": [
    {
     "name": "stdout",
     "output_type": "stream",
     "text": [
      "5\n",
      "3\n",
      "2\n",
      "1\n",
      "5\n",
      "4\n",
      "1\n",
      "2\n",
      "3\n",
      "4\n",
      "5\n"
     ]
    }
   ],
   "source": [
    "def bubble_sort(data):\n",
    "    for idx in range(len(data) - 1):\n",
    "        swap = False\n",
    "        for idx2 in range(len(data) - 1 - idx):\n",
    "            if data[idx2] > data[idx2 + 1]:\n",
    "                data[idx2], data[idx2 + 1] = data[idx2 + 1], data[idx2]\n",
    "                swap = True\n",
    "        if not swap:\n",
    "            break\n",
    "    return data\n",
    "\n",
    "def selection_sort(data):\n",
    "    for idx in range(len(data)):\n",
    "        min_idx = idx\n",
    "        for idx2 in range(idx + 1, len(data)):\n",
    "            if data[min_idx] > data[idx2]:\n",
    "                min_idx = idx2\n",
    "        data[idx], data[min_idx] = data[min_idx], data[idx]\n",
    "    return data\n",
    "\n",
    "def insertion_sort(data):\n",
    "    for idx in range(len(data) - 1):\n",
    "        for idx2 in range(idx + 1, 0, -1):\n",
    "            if data[idx2] < data[idx2 - 1]:\n",
    "                data[idx2], data[idx2 - 1] = data[idx2 - 1], data[idx2]\n",
    "            else:\n",
    "                break\n",
    "    return data\n",
    "\n",
    "n = int(input())\n",
    "\n",
    "data = list()\n",
    "for _ in range(n):\n",
    "    data.append(int(input()))\n",
    "    \n",
    "result = insertion_sort(data)\n",
    "for r in result:\n",
    "    print(r)"
   ]
  }
 ],
 "metadata": {
  "kernelspec": {
   "display_name": "Python 3",
   "language": "python",
   "name": "python3"
  },
  "language_info": {
   "codemirror_mode": {
    "name": "ipython",
    "version": 3
   },
   "file_extension": ".py",
   "mimetype": "text/x-python",
   "name": "python",
   "nbconvert_exporter": "python",
   "pygments_lexer": "ipython3",
   "version": "3.6.9"
  }
 },
 "nbformat": 4,
 "nbformat_minor": 4
}
