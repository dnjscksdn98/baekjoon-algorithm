{
 "cells": [
  {
   "cell_type": "markdown",
   "metadata": {},
   "source": [
    "### 01) 음계"
   ]
  },
  {
   "cell_type": "markdown",
   "metadata": {},
   "source": [
    "- 다장조는 c d e f g a b C, 총 8개 음으로 이루어져있다. 이 문제에서 8개 음은 다음과 같이 숫자로 바꾸어 표현한다. c는 1로, d는 2로, ..., C를 8로 바꾼다.\n",
    "  1부터 8까지 차례대로 연주한다면 ascending, 8부터 1까지 차례대로 연주한다면 descending, 둘 다 아니라면 mixed 이다.\n",
    "  연주한 순서가 주어졌을 때, 이것이 ascending인지, descending인지, 아니면 mixed인지 판별하는 프로그램을 작성하시오."
   ]
  },
  {
   "cell_type": "markdown",
   "metadata": {},
   "source": [
    "- 난이도: 하\n",
    "- 문제 유형: 배열, 구현\n",
    "- 추천 문제 풀이 시간: 15분"
   ]
  },
  {
   "cell_type": "markdown",
   "metadata": {},
   "source": [
    "- 문제 풀이 핵심 아이디어\n",
    "  - 리스트에서 원소를 차례대로 비교\n",
    "  - 비교할 때 두 원소를 기준으로 오름차순/내림차순 여부 판단"
   ]
  },
  {
   "cell_type": "code",
   "execution_count": 44,
   "metadata": {},
   "outputs": [
    {
     "name": "stdout",
     "output_type": "stream",
     "text": [
      "1 2 3 4 5 6 7 8\n",
      "ascending\n"
     ]
    }
   ],
   "source": [
    "def check_sequence():\n",
    "    data = list(map(int, input().split(' ')))\n",
    "    \n",
    "    asc = True\n",
    "    desc = True\n",
    "    \n",
    "    for i in range(len(data) - 1):\n",
    "        if not asc and not desc:\n",
    "            break\n",
    "        if data[i+1] == data[i] + 1:\n",
    "            desc = False\n",
    "            continue\n",
    "        if data[i+1] == data[i] - 1:\n",
    "            asc = False\n",
    "            continue\n",
    "        else:\n",
    "            asc = False\n",
    "            desc = False\n",
    "                \n",
    "    if asc and not desc:\n",
    "        return 'ascending'\n",
    "    if not asc and desc:\n",
    "        return 'descending'\n",
    "    if not asc and not desc:\n",
    "        return 'mixed'\n",
    "    \n",
    "print(check_sequence())"
   ]
  }
 ],
 "metadata": {
  "kernelspec": {
   "display_name": "Python 3",
   "language": "python",
   "name": "python3"
  },
  "language_info": {
   "codemirror_mode": {
    "name": "ipython",
    "version": 3
   },
   "file_extension": ".py",
   "mimetype": "text/x-python",
   "name": "python",
   "nbconvert_exporter": "python",
   "pygments_lexer": "ipython3",
   "version": "3.6.9"
  }
 },
 "nbformat": 4,
 "nbformat_minor": 4
}
