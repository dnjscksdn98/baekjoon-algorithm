{
 "cells": [
  {
   "cell_type": "markdown",
   "metadata": {},
   "source": [
    "### 42. 해킹\n",
    "- [#10282](https://www.acmicpc.net/problem/10282)\n",
    "- 난이도: 중\n",
    "- 문제 유형: 다익스트라 최단 경로\n",
    "- 그래프 고급 탐색: 핵심 유형 문제풀이"
   ]
  },
  {
   "cell_type": "markdown",
   "metadata": {},
   "source": [
    "**문제**\n",
    "- 최흉최악의 해커 yum3이 네트워크 시설의 한 컴퓨터를 해킹했다! 이제 서로에 의존하는 컴퓨터들은 점차 하나둘 전염되기 시작한다. 어떤 컴퓨터 a가 다른 컴퓨터 b에 의존한다면, b가 감염되면 그로부터 일정 시간 뒤 a도 감염되고 만다. 이때 b가 a를 의존하지 않는다면, a가 감염되더라도 b는 안전하다.\n",
    "\n",
    "- 최흉최악의 해커 yum3이 해킹한 컴퓨터 번호와 각 의존성이 주어질 때, 해킹당한 컴퓨터까지 포함하여 총 몇 대의 컴퓨터가 감염되며 그에 걸리는 시간이 얼마인지 구하는 프로그램을 작성하시오."
   ]
  },
  {
   "cell_type": "markdown",
   "metadata": {},
   "source": [
    "**입력**\n",
    "- 첫째 줄에 테스트 케이스의 개수가 주어진다. 테스트 케이스의 개수는 최대 100개이다. 각 테스트 케이스는 다음과 같이 이루어져 있다.\n",
    "\n",
    "- 첫째 줄에 컴퓨터 개수 n, 의존성 개수 d, 해킹당한 컴퓨터의 번호 c가 주어진다(1 ≤ n ≤ 10,000, 1 ≤ d ≤ 100,000, 1 ≤ c ≤ n).\n",
    "- 이어서 d개의 줄에 각 의존성을 나타내는 정수 a, b, s가 주어진다(1 ≤ a, b ≤ n, a ≠ b, 0 ≤ s ≤ 1,000). 이는 컴퓨터 a가 컴퓨터 b를 의존하며, 컴퓨터 b가 감염되면 s초 후 컴퓨터 a도 감염됨을 뜻한다.\n",
    "- 각 테스트 케이스에서 같은 의존성 (a, b)가 두 번 이상 존재하지 않는다."
   ]
  },
  {
   "cell_type": "markdown",
   "metadata": {},
   "source": [
    "**출력**\n",
    "- 각 테스트 케이스마다 한 줄에 걸쳐 총 감염되는 컴퓨터 수, 마지막 컴퓨터가 감염되기까지 걸리는 시간을 공백으로 구분지어 출력한다."
   ]
  },
  {
   "cell_type": "markdown",
   "metadata": {},
   "source": [
    "**예제 입력**\n",
    "```\n",
    "2\n",
    "3 2 2\n",
    "2 1 5\n",
    "3 2 5\n",
    "3 3 1\n",
    "2 1 2\n",
    "3 1 8\n",
    "3 2 4\n",
    "```"
   ]
  },
  {
   "cell_type": "markdown",
   "metadata": {},
   "source": [
    "**예제 출력**\n",
    "```\n",
    "2 5\n",
    "3 6\n",
    "```"
   ]
  },
  {
   "cell_type": "markdown",
   "metadata": {},
   "source": [
    "**문제 풀이 핵심 아이디어**\n",
    "- 기본적인 다익스트라 최단 경로 알고리즘 문제입니다.\n",
    "- 도달할 수 있는 정점들의 개수와 최대 거리를 출력합니다.\n",
    "- 정점의 개수 N이 최대 10,000이고, 간선의 개수 D는 최대 100,000입니다.\n",
    "- 우선순위 큐를 이용하여, 시간 복잡도는 $O(NlogD)$ 로 해결할 수 있습니다."
   ]
  },
  {
   "cell_type": "markdown",
   "metadata": {},
   "source": [
    "**나의 소스코드**"
   ]
  },
  {
   "cell_type": "code",
   "execution_count": 36,
   "metadata": {},
   "outputs": [
    {
     "name": "stdout",
     "output_type": "stream",
     "text": [
      "1\n",
      "3 2 2\n",
      "2 1 5\n",
      "3 2 5\n",
      "2 5\n"
     ]
    }
   ],
   "source": [
    "import sys\n",
    "import heapq\n",
    "from collections import defaultdict\n",
    "input = sys.stdin.readline\n",
    "\n",
    "t = int(input())\n",
    "for _ in range(t):\n",
    "    n, m, start = map(int, input().split())\n",
    "    graph = defaultdict(list)\n",
    "    \n",
    "    for _ in range(m):\n",
    "        x, y, cost = map(int, input().split())\n",
    "        graph[y].append([x, cost])\n",
    "        \n",
    "    distances = dijkstra(graph, start)\n",
    "    \n",
    "    cnt = 0\n",
    "    max_distance = 0\n",
    "    for d in distances:\n",
    "        if d != float('inf'):\n",
    "            cnt += 1\n",
    "            if d > max_distance:\n",
    "                max_distance = d\n",
    "    print(cnt, max_distance)"
   ]
  },
  {
   "cell_type": "code",
   "execution_count": 35,
   "metadata": {},
   "outputs": [],
   "source": [
    "def dijkstra(graph, start):\n",
    "    distances = [float('inf')] * (n + 1)\n",
    "    distances[start] = 0\n",
    "    queue = []\n",
    "    heapq.heappush(queue, (0, start))\n",
    "    \n",
    "    while queue:\n",
    "        current_distance, current_node = heapq.heappop(queue)\n",
    "        \n",
    "        if distances[current_node] < current_distance:\n",
    "            continue\n",
    "            \n",
    "        for node in graph[current_node]:\n",
    "            adj, w = node[0], node[1]\n",
    "            new_distance = current_distance + w\n",
    "            \n",
    "            if distances[adj] > new_distance:\n",
    "                distances[adj] = new_distance\n",
    "                heapq.heappush(queue, [new_distance, adj])\n",
    "                \n",
    "    return distances"
   ]
  }
 ],
 "metadata": {
  "kernelspec": {
   "display_name": "Python 3",
   "language": "python",
   "name": "python3"
  },
  "language_info": {
   "codemirror_mode": {
    "name": "ipython",
    "version": 3
   },
   "file_extension": ".py",
   "mimetype": "text/x-python",
   "name": "python",
   "nbconvert_exporter": "python",
   "pygments_lexer": "ipython3",
   "version": "3.8.1"
  }
 },
 "nbformat": 4,
 "nbformat_minor": 4
}
