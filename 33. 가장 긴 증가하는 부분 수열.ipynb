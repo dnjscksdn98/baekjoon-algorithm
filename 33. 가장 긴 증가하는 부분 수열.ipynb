{
 "cells": [
  {
   "cell_type": "markdown",
   "metadata": {},
   "source": [
    "### 33. 가장 긴 증가하는 부분 수열\n",
    "- [#11053](https://www.acmicpc.net/problem/11053)\n",
    "- 대표적인 동적 프로그래밍 문제 유형 - 중요 !!"
   ]
  },
  {
   "cell_type": "markdown",
   "metadata": {},
   "source": [
    "**문제**\n",
    "- 수열 A가 주어졌을 때, 가장 긴 증가하는 부분 수열을 구하는 프로그램을 작성하시오.\n",
    "\n",
    "- 예를 들어, 수열 A = {10, 20, 10, 30, 20, 50} 인 경우에 가장 긴 증가하는 부분 수열은 A = {**10**, **20**, 10, **30**, 20, **50**} 이고, 길이는 4이다."
   ]
  },
  {
   "cell_type": "markdown",
   "metadata": {},
   "source": [
    "**입력**\n",
    "- 첫째 줄에 수열 A의 크기 N (1 ≤ N ≤ 1,000)이 주어진다.\n",
    "\n",
    "- 둘째 줄에는 수열 A를 이루고 있는 $A_i$가 주어진다. (1 ≤ $A_i$ ≤ 1,000)"
   ]
  },
  {
   "cell_type": "markdown",
   "metadata": {},
   "source": [
    "**출력**\n",
    "- 첫째 줄에 수열 A의 가장 긴 증가하는 부분 수열의 길이를 출력한다."
   ]
  },
  {
   "cell_type": "markdown",
   "metadata": {},
   "source": [
    "**예제 입력**\n",
    "```\n",
    "6\n",
    "10 20 10 30 20 50\n",
    "```"
   ]
  },
  {
   "cell_type": "markdown",
   "metadata": {},
   "source": [
    "**예제 출력**\n",
    "```\n",
    "4\n",
    "```"
   ]
  },
  {
   "cell_type": "markdown",
   "metadata": {},
   "source": [
    "**문제 풀이 핵심 아이디어**\n",
    "- 가장 긴 증가하는 부분 수열(LIS, Longest Increasing Sequence) 문제는, 전형적인 동적 프로그래밍 문제입니다.\n",
    "- 수열의 크기가 N일 때, 기본적인 동적 프로그래밍 알고리즘으로 $O(N^2)$에 해결할 수 있습니다."
   ]
  },
  {
   "cell_type": "markdown",
   "metadata": {},
   "source": [
    "**소스코드**"
   ]
  },
  {
   "cell_type": "markdown",
   "metadata": {},
   "source": [
    "**점화식**\n",
    "- D[idx] = max(현재 값 이후의 값들 중에서 더 큰 값들의 D) + D[idx]\n",
    "- 더 큰 값이 없다면 패스"
   ]
  },
  {
   "cell_type": "code",
   "execution_count": 21,
   "metadata": {},
   "outputs": [
    {
     "name": "stdout",
     "output_type": "stream",
     "text": [
      "6\n",
      "10 20 10 30 20 50\n"
     ]
    }
   ],
   "source": [
    "n = int(input())\n",
    "array = list(map(int, input().split()))"
   ]
  },
  {
   "cell_type": "code",
   "execution_count": 37,
   "metadata": {},
   "outputs": [],
   "source": [
    "D = [1] * n"
   ]
  },
  {
   "cell_type": "code",
   "execution_count": 38,
   "metadata": {},
   "outputs": [
    {
     "name": "stdout",
     "output_type": "stream",
     "text": [
      "4\n"
     ]
    }
   ],
   "source": [
    "for idx in range(len(D) - 2, -1, -1):\n",
    "    bigger_idx = find_bigger_idx(array[idx + 1:], array[idx])\n",
    "    \n",
    "    if len(bigger_idx) > 0:\n",
    "        temp = [D[idx + i] for i in bigger_idx]\n",
    "        D[idx] += max(temp)\n",
    "    \n",
    "print(max(D))"
   ]
  },
  {
   "cell_type": "code",
   "execution_count": 30,
   "metadata": {},
   "outputs": [],
   "source": [
    "def find_bigger_idx(array, data):\n",
    "    idx = 1\n",
    "    result = list()\n",
    "    \n",
    "    for a in array:\n",
    "        if a > data:\n",
    "            result.append(idx)\n",
    "        idx += 1\n",
    "        \n",
    "    return result"
   ]
  }
 ],
 "metadata": {
  "kernelspec": {
   "display_name": "Python 3",
   "language": "python",
   "name": "python3"
  },
  "language_info": {
   "codemirror_mode": {
    "name": "ipython",
    "version": 3
   },
   "file_extension": ".py",
   "mimetype": "text/x-python",
   "name": "python",
   "nbconvert_exporter": "python",
   "pygments_lexer": "ipython3",
   "version": "3.8.1"
  }
 },
 "nbformat": 4,
 "nbformat_minor": 4
}
