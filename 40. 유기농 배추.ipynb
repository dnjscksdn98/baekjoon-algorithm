{
 "cells": [
  {
   "cell_type": "markdown",
   "metadata": {},
   "source": [
    "### 40. 유기농 배추\n",
    "- [#1012](https://www.acmicpc.net/problem/1012)\n",
    "- 난이도: 하\n",
    "- 문제 유형: DFS, BFS\n",
    "- 출제 빈도: 매우 높음\n",
    "- 그래프 기본 탐색: 핵심 유형 문제풀이"
   ]
  },
  {
   "cell_type": "markdown",
   "metadata": {},
   "source": [
    "**문제**\n",
    "- 차세대 영농인 한나는 강원도 고랭지에서 유기농 배추를 재배하기로 하였다. 농약을 쓰지 않고 배추를 재배하려면 배추를 해충으로부터 보호하는 것이 중요하기 때문에, 한나는 해충 방지에 효과적인 배추흰지렁이를 구입하기로 결심한다. 이 지렁이는 배추근처에 서식하며 해충을 잡아 먹음으로써 배추를 보호한다. 특히, 어떤 배추에 배추흰지렁이가 한 마리라도 살고 있으면 이 지렁이는 인접한 다른 배추로 이동할 수 있어, 그 배추들 역시 해충으로부터 보호받을 수 있다.\n",
    "\n",
    "- (한 배추의 상하좌우 네 방향에 다른 배추가 위치한 경우에 서로 인접해있다고 간주한다)\n",
    "\n",
    "- 한나가 배추를 재배하는 땅은 고르지 못해서 배추를 군데군데 심어놓았다. 배추들이 모여있는 곳에는 배추흰지렁이가 한 마리만 있으면 되므로 서로 인접해있는 배추들이 몇 군데에 퍼져있는지 조사하면 총 몇 마리의 지렁이가 필요한지 알 수 있다.\n",
    "\n",
    "- 예를 들어 배추밭이 아래와 같이 구성되어 있으면 최소 5마리의 배추흰지렁이가 필요하다.\n",
    "\n",
    "- (0은 배추가 심어져 있지 않은 땅이고, 1은 배추가 심어져 있는 땅을 나타낸다.)"
   ]
  },
  {
   "cell_type": "markdown",
   "metadata": {},
   "source": [
    "<a href=\"https://imgbb.com/\"><img src=\"https://i.ibb.co/MRhF8kK/image.png\" alt=\"image\" border=\"0\"></a>"
   ]
  },
  {
   "cell_type": "markdown",
   "metadata": {},
   "source": [
    "**입력**\n",
    "- 입력의 첫 줄에는 테스트 케이스의 개수 T가 주어진다. 그 다음 줄부터 각각의 테스트 케이스에 대해 첫째 줄에는 배추를 심은 배추밭의 가로길이 M(1 ≤ M ≤ 50)과 세로길이 N(1 ≤ N ≤ 50), 그리고 배추가 심어져 있는 위치의 개수 K(1 ≤ K ≤ 2500)이 주어진다. 그 다음 K줄에는 배추의 위치 X(0 ≤ X ≤ M-1), Y(0 ≤ Y ≤ N-1)가 주어진다."
   ]
  },
  {
   "cell_type": "markdown",
   "metadata": {},
   "source": [
    "**출력**\n",
    "- 각 테스트 케이스에 대해 필요한 최소의 배추흰지렁이 마리 수를 출력한다."
   ]
  },
  {
   "cell_type": "markdown",
   "metadata": {},
   "source": [
    "**예제 입력 1**\n",
    "```\n",
    "2\n",
    "10 8 17\n",
    "0 0\n",
    "1 0\n",
    "1 1\n",
    "4 2\n",
    "4 3\n",
    "4 5\n",
    "2 4\n",
    "3 4\n",
    "7 4\n",
    "8 4\n",
    "9 4\n",
    "7 5\n",
    "8 5\n",
    "9 5\n",
    "7 6\n",
    "8 6\n",
    "9 6\n",
    "10 10 1\n",
    "5 5\n",
    "```"
   ]
  },
  {
   "cell_type": "markdown",
   "metadata": {},
   "source": [
    "**예제 출력 1**\n",
    "```\n",
    "5\n",
    "1\n",
    "```"
   ]
  },
  {
   "cell_type": "markdown",
   "metadata": {},
   "source": [
    "**예제 입력 2**\n",
    "```\n",
    "1\n",
    "5 3 6\n",
    "0 2\n",
    "1 2\n",
    "2 2\n",
    "3 2\n",
    "4 2\n",
    "4 0\n",
    "```"
   ]
  },
  {
   "cell_type": "markdown",
   "metadata": {},
   "source": [
    "**예제 출력 2**\n",
    "```\n",
    "2\n",
    "```"
   ]
  },
  {
   "cell_type": "markdown",
   "metadata": {},
   "source": [
    "**문제 풀이 핵심 아이디어**\n",
    "- **연결 요소의 개수를 세는 문제**입니다.\n",
    "- 모든 정점에 대하여 DFS 및 BFS를 수행하고, 한번 방문한 정점은 다시 확인하지 않습니다.\n",
    "- 전체적으로 **DFS 및 BFS를 수행한 총 횟수를 계산**합니다.\n",
    "- DFS 및 BFS 응용 문제 중에서 출제 비중이 매우 높은 유형 중 하나입니다.\n",
    "- DFS로 문제를 푸는 경우, ```sys``` 라이브러리의 ```setrecursionlimit()``` 함수 설정을 해줄 필요가 있습니다."
   ]
  },
  {
   "cell_type": "markdown",
   "metadata": {},
   "source": [
    "<a><img src=\"https://i.ibb.co/B3KW0Qg/Kakao-Talk-20200804-215919295.jpg\" alt=\"Kakao-Talk-20200804-215919295\" border=\"0\" width=\"400\"></a>"
   ]
  },
  {
   "cell_type": "markdown",
   "metadata": {},
   "source": [
    "**나의 소스코드**"
   ]
  },
  {
   "cell_type": "code",
   "execution_count": 5,
   "metadata": {},
   "outputs": [],
   "source": [
    "import sys\n",
    "sys.setrecursionlimit(100000)\n",
    "\n",
    "def dfs(x, y):\n",
    "    visited[x][y] = 1\n",
    "    directions = [(-1, 0), (1, 0), (0, -1), (0, 1)]\n",
    "    \n",
    "    for dx, dy in directions:\n",
    "        nx, ny = x + dx, y + dy\n",
    "        if nx < 0 or nx >= n or ny < 0 or ny >= m:\n",
    "            continue\n",
    "        if array[nx][ny] and not visited[nx][ny]:\n",
    "            dfs(nx, ny)"
   ]
  },
  {
   "cell_type": "code",
   "execution_count": 7,
   "metadata": {},
   "outputs": [
    {
     "name": "stdout",
     "output_type": "stream",
     "text": [
      "1\n",
      "5 3 6\n",
      "0 2\n",
      "1 2\n",
      "2 2\n",
      "3 2\n",
      "4 2\n",
      "4 0\n",
      "2\n"
     ]
    }
   ],
   "source": [
    "t = int(input())\n",
    "\n",
    "for _ in range(t):\n",
    "    m, n, k = map(int, input().split())\n",
    "    array = [[0] * m for _ in range(n)]\n",
    "    visited = [[0] * m for _ in range(n)]\n",
    "    \n",
    "    for _ in range(k):\n",
    "        y, x = map(int, input().split())\n",
    "        array[x][y] = 1\n",
    "    \n",
    "    result = 0\n",
    "    for i in range(n):\n",
    "        for j in range(m):\n",
    "            if array[i][j] and not visited[i][j]:\n",
    "                dfs(i, j)\n",
    "                result += 1\n",
    "                \n",
    "    print(result)"
   ]
  }
 ],
 "metadata": {
  "kernelspec": {
   "display_name": "Python 3",
   "language": "python",
   "name": "python3"
  },
  "language_info": {
   "codemirror_mode": {
    "name": "ipython",
    "version": 3
   },
   "file_extension": ".py",
   "mimetype": "text/x-python",
   "name": "python",
   "nbconvert_exporter": "python",
   "pygments_lexer": "ipython3",
   "version": "3.8.1"
  }
 },
 "nbformat": 4,
 "nbformat_minor": 4
}
