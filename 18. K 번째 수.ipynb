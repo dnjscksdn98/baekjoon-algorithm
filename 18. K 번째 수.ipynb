{
 "cells": [
  {
   "cell_type": "markdown",
   "metadata": {},
   "source": [
    "### 18. K 번째 수"
   ]
  },
  {
   "cell_type": "markdown",
   "metadata": {},
   "source": [
    "**문제**\n",
    "- 수 N개 A1, A2, ..., AN이 주어진다. A를 오름차순 정렬했을 때, 앞에서부터 K번째 있는 수를 구하는 프로그램을 작성하시오."
   ]
  },
  {
   "cell_type": "markdown",
   "metadata": {},
   "source": [
    "**입력**\n",
    "- 첫째 줄에 N(1 ≤ N ≤ 5,000,000)과 K (1 ≤ K ≤ N)이 주어진다.\n",
    "\n",
    "- 둘째에는 A1, A2, ..., AN이 주어진다. (-109 ≤ Ai ≤ 109)"
   ]
  },
  {
   "cell_type": "markdown",
   "metadata": {},
   "source": [
    "**출력**\n",
    "- A를 정렬했을 때, 앞에서부터 K번째 있는 수를 출력한다."
   ]
  },
  {
   "cell_type": "markdown",
   "metadata": {},
   "source": [
    "**예제 입력**\n",
    "```\n",
    "5 2\n",
    "4 1 2 3 5\n",
    "```"
   ]
  },
  {
   "cell_type": "markdown",
   "metadata": {},
   "source": [
    "**예제 출력**\n",
    "```\n",
    "2\n",
    "```"
   ]
  },
  {
   "cell_type": "markdown",
   "metadata": {},
   "source": [
    "**핵심 아이디어**\n",
    "- 데이터의 개수가 최대 5,000,000개입니다.\n",
    "- A의 원소의 값의 범위도 크므로 계수 정렬도 사용 불가.\n",
    "- 그래서 시간 복잡도가 $O(Nlog(N))$인 정렬 알고리즘을 이용해야합니다.\n",
    "- 즉, 고급 정렬 알고리즘을 이용해야합니다.\n",
    "- 혹은 파이썬의 **기본 정렬 라이브러리**를 이용할 수도 있습니다. 즉, 기본 라이브러리로도 고급 정렬 알고리즘 문제 해결 가능\n",
    "- 시간적 이점을 위하여 PyPy3를 선택하여 코드를 제출합니다."
   ]
  },
  {
   "cell_type": "markdown",
   "metadata": {},
   "source": [
    "**1) 합병 정렬**"
   ]
  },
  {
   "cell_type": "code",
   "execution_count": 1,
   "metadata": {},
   "outputs": [],
   "source": [
    "def merge_sort(numbers):\n",
    "    if len(numbers) <= 1:\n",
    "        return numbers\n",
    "    \n",
    "    medium = len(numbers) // 2\n",
    "    left = numbers[:medium]\n",
    "    right = numbers[medium:]\n",
    "    \n",
    "    return merge(merge_sort(left), merge_sort(right))"
   ]
  },
  {
   "cell_type": "code",
   "execution_count": 2,
   "metadata": {},
   "outputs": [],
   "source": [
    "def merge(left, right):\n",
    "    left_idx = 0\n",
    "    right_idx = 0\n",
    "    merge_list = list()\n",
    "    \n",
    "    while left_idx < len(left) and right_idx < len(right):\n",
    "        if left[left_idx] > right[right_idx]:\n",
    "            merge_list.append(right[right_idx])\n",
    "            right_idx += 1\n",
    "        \n",
    "        else:\n",
    "            merge_list.append(left[left_idx])\n",
    "            left_idx += 1\n",
    "            \n",
    "    while left_idx < len(left):\n",
    "        merge_list.append(left[left_idx])\n",
    "        left_idx += 1\n",
    "        \n",
    "    while right_idx < len(right):\n",
    "        merge_list.append(right[right_idx])\n",
    "        right_idx += 1\n",
    "        \n",
    "    return merge_list"
   ]
  },
  {
   "cell_type": "code",
   "execution_count": 5,
   "metadata": {},
   "outputs": [
    {
     "name": "stdout",
     "output_type": "stream",
     "text": [
      "5 2\n",
      "4 1 2 3 5\n"
     ]
    }
   ],
   "source": [
    "N, K = map(int, input().split(' '))\n",
    "\n",
    "numbers = list(map(int, input().split(' ')))    "
   ]
  },
  {
   "cell_type": "code",
   "execution_count": 4,
   "metadata": {},
   "outputs": [
    {
     "name": "stdout",
     "output_type": "stream",
     "text": [
      "2\n"
     ]
    }
   ],
   "source": [
    "numbers = merge_sort(numbers)\n",
    "\n",
    "print(numbers[K - 1])"
   ]
  },
  {
   "cell_type": "markdown",
   "metadata": {},
   "source": [
    "**2) 파이썬 기본 정렬 라이브러리**"
   ]
  },
  {
   "cell_type": "code",
   "execution_count": 6,
   "metadata": {},
   "outputs": [
    {
     "name": "stdout",
     "output_type": "stream",
     "text": [
      "2\n"
     ]
    }
   ],
   "source": [
    "numbers = sorted(numbers)\n",
    "\n",
    "print(numbers[K - 1])"
   ]
  }
 ],
 "metadata": {
  "kernelspec": {
   "display_name": "Python 3",
   "language": "python",
   "name": "python3"
  },
  "language_info": {
   "codemirror_mode": {
    "name": "ipython",
    "version": 3
   },
   "file_extension": ".py",
   "mimetype": "text/x-python",
   "name": "python",
   "nbconvert_exporter": "python",
   "pygments_lexer": "ipython3",
   "version": "3.6.9"
  }
 },
 "nbformat": 4,
 "nbformat_minor": 4
}
